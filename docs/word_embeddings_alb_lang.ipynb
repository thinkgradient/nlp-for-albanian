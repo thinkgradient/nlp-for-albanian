{
 "cells": [
  {
   "cell_type": "markdown",
   "metadata": {},
   "source": [
    "### Word Embeddings for the Albanian Language\n",
    "In the data folder are the downloaded corpus in XML format for the Albanian Wiki. The file is in bz2 format so it needs to be decompressed first. We will use the WikiCorpus module from the gensim library in order to extract the contents from the bz2 file.\n",
    " \n",
    "Tutorial Overview:\n",
    "    1. Decompress and extract the contents of the downloaded .bz2 file from Wikimedia\n",
    "    2. Traing a Word2Vec model on the Albanian Corpus extracted from Step 1\n",
    "    3. Load the model and experiment with word similarities in Albanian. \n"
   ]
  },
  {
   "cell_type": "markdown",
   "metadata": {},
   "source": [
    "### Setup environment"
   ]
  },
  {
   "cell_type": "code",
   "execution_count": 2,
   "metadata": {},
   "outputs": [
    {
     "name": "stdout",
     "output_type": "stream",
     "text": [
      "/bin/bash: setup.sh: No such file or directory\r\n"
     ]
    }
   ],
   "source": [
    "# TODO: prepare the env setup script\n",
    "!/bin/bash setup.sh"
   ]
  },
  {
   "cell_type": "markdown",
   "metadata": {},
   "source": [
    "### Import dependencies"
   ]
  },
  {
   "cell_type": "code",
   "execution_count": null,
   "metadata": {},
   "outputs": [],
   "source": [
    "import gensim\n"
   ]
  },
  {
   "cell_type": "code",
   "execution_count": null,
   "metadata": {},
   "outputs": [],
   "source": [
    "# This will be replaced with an AL NLP API function\n",
    "$ python process_sq_wiki.py sqlwiki-xxx.xml.bz2 wiki.sq.text"
   ]
  },
  {
   "cell_type": "code",
   "execution_count": null,
   "metadata": {},
   "outputs": [],
   "source": [
    "# This will be replaced with an AL NLP API function\n",
    "$ python train_word2vec_sq_model.py wiki.sq.text wiki.sq.word2vec.model"
   ]
  },
  {
   "cell_type": "code",
   "execution_count": null,
   "metadata": {},
   "outputs": [],
   "source": [
    "model = gensim.models.Word2Vec.load(\"wiki.sq.word2vec.model\")\n",
    "\n",
    "model.most_similar(\"gjuha\")"
   ]
  },
  {
   "cell_type": "code",
   "execution_count": null,
   "metadata": {},
   "outputs": [],
   "source": []
  }
 ],
 "metadata": {
  "kernelspec": {
   "display_name": "Python 3",
   "language": "python",
   "name": "python3"
  },
  "language_info": {
   "codemirror_mode": {
    "name": "ipython",
    "version": 3
   },
   "file_extension": ".py",
   "mimetype": "text/x-python",
   "name": "python",
   "nbconvert_exporter": "python",
   "pygments_lexer": "ipython3",
   "version": "3.6.7"
  }
 },
 "nbformat": 4,
 "nbformat_minor": 2
}
